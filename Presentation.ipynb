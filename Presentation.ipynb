{
 "cells": [
  {
   "cell_type": "markdown",
   "metadata": {},
   "source": [
    "# Introduction\n",
    "\n",
    "Based on telematics data, how might we detect if the driver is driving dangerously?\n",
    "- This is a data science assignment where you are expected to create a data model from a given training dataset.\n",
    "\n",
    "### PROBLEM STATEMENT\n",
    "\n",
    "Given the telematics data for each trip and the label if the trip is tagged as dangerous driving, derive a model that can detect dangerous driving trips."
   ]
  },
  {
   "cell_type": "markdown",
   "metadata": {},
   "source": [
    "### Telematics at Grab\n",
    " \n",
    "Grab has been using telematics on accelerometer and gyroscope data from the app to improve safety of their rides\n",
    "\n",
    "In July 2017, the average number of speeding moments was 0.7 per 100km. By July this year, the figure dropped by 64%. Similarly, the average number of harsh braking and heavy acceleration instances per kilometre decreased by 23% and 50% respectively year-on-year.\n",
    "\n",
    "Harsh braking and acceleration are unpleasant for the passenger, and are highly correlated to unsafe behaviours like tailgating, aggressive driving and losing focus on the road.\n",
    "\n",
    "The telematics will be feed into driver awareness and improvements / training programs\n",
    "\n",
    "### Grab's Way of Measuring Driving Safety\n",
    "To measure safety, the team at Grab comes out with several descriptive statistics indicative of driving dangerously. Using a machine learning model, these hypothesized features are then validated against data from a set of trips that were flagged by passengers for dangerous driving, and subsequently confirmed as dangerous after investigation by Grab. This step is done to ensure the features can reliably indicate unsafe driver behaviour.\n",
    "\n",
    "### Grander Goal: Safer Everyday Tech Roadmap\n",
    "Safer Everyday Tech Roadmap comprises product enhancements that aim to eliminate preventable incidents, encourage safer user habits and drive long-term changes in road behaviour\n",
    "\n",
    "This includes measures specifically aimed at changing user safety habits – such as driver fatigue monitoring and telematics reports for drivers to learn their driving patterns and identify how to drive more safely – to drive long-term road behaviour change and reduce the chance of incidents.\n",
    "\n",
    "<img src=\"https://assets.grab.com/wp-content/uploads/sites/4/2018/10/11132554/Grab_SaferEveryday_Infographic.jpg\" />"
   ]
  },
  {
   "cell_type": "markdown",
   "metadata": {},
   "source": [
    "### So, what are we doing here?\n",
    "- Detect dangerous driving\n",
    "- Why is the drive 'dangerous'? Need to extract the feature maps because then we can push for behavioral changes and training\n",
    "- Find new key features indicative of dangerous driving\n",
    "- Find features to track driving behaviors across time to drive behavioral changes\n",
    "- Can we use the outcome of this exercise into a product?"
   ]
  },
  {
   "cell_type": "markdown",
   "metadata": {},
   "source": [
    "### Grab safety roadmap includes trying to help local governments to make traffic safety better\n",
    "\n",
    "One of the products Grab can offer is a driver telematics solution to monitor, detect driving event or dangerous behaviors and offer interventions such as defensive driving course\n",
    "\n",
    "To achieve that, the key component is to detect dangerous drivers\n",
    "\n",
    "What’s important? \n",
    "- detection\n",
    "- Features / events that leads to a dangerous driving events\n",
    "- Ability to record and detect driving patterns across time \n"
   ]
  },
  {
   "cell_type": "markdown",
   "metadata": {},
   "source": [
    "### My Approach\n",
    "\n",
    "- Pattern recognition based on sensor magnitudes using machine learning\n",
    "- Utilize sliding time window and extract time specific features as such mean, std dev, signal peak magnitudes etc\n",
    "- Alternatively, a deep learning model can be explored\n",
    "\n",
    "- However, to enrich the result to be more applicable to Grab's business, we would like to 1) detect actual driving events 2) use said events to build a driving / risk score\n",
    "- With will allow for tracking of drivers partnering with Grab or local city council public transportation drivers and provide avenues for awareness and improvements as well as defensive driving intervention and training-> For a safer transportation system for all."
   ]
  },
  {
   "cell_type": "code",
   "execution_count": null,
   "metadata": {},
   "outputs": [],
   "source": []
  }
 ],
 "metadata": {
  "kernelspec": {
   "display_name": "Python 3",
   "language": "python",
   "name": "python3"
  },
  "language_info": {
   "codemirror_mode": {
    "name": "ipython",
    "version": 3
   },
   "file_extension": ".py",
   "mimetype": "text/x-python",
   "name": "python",
   "nbconvert_exporter": "python",
   "pygments_lexer": "ipython3",
   "version": "3.7.3"
  }
 },
 "nbformat": 4,
 "nbformat_minor": 2
}
